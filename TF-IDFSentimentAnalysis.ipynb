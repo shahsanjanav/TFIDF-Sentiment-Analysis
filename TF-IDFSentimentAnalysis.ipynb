{
 "cells": [
  {
   "cell_type": "code",
   "execution_count": 1,
   "id": "03b4f3c2-3469-43e3-bd6e-1d8d095a4851",
   "metadata": {},
   "outputs": [],
   "source": [
    "import numpy as np\n",
    "import pandas as pd\n",
    "import matplotlib.pyplot as plt\n",
    "import seaborn as sns\n",
    "import spacy\n",
    "from string import punctuation\n",
    "from nltk.tokenize import word_tokenize\n",
    "from nltk.stem import LancasterStemmer, WordNetLemmatizer\n",
    "import re\n",
    "import warnings\n",
    "from sklearn.model_selection import train_test_split, cross_val_score\n",
    "from sklearn.feature_extraction.text import TfidfVectorizer\n",
    "from sklearn.linear_model import LogisticRegression\n",
    "from sklearn.naive_bayes import MultinomialNB\n",
    "from sklearn.ensemble import RandomForestClassifier\n",
    "from sklearn.metrics import accuracy_score, precision_score, recall_score, f1_score\n",
    "from imblearn.under_sampling import RandomUnderSampler\n",
    "from tqdm import tqdm\n",
    "import multiprocessing\n",
    "warnings.filterwarnings('ignore')"
   ]
  },
  {
   "cell_type": "code",
   "execution_count": 2,
   "id": "bc453aa2-dc1c-42ae-8506-e1b7fd9a38d6",
   "metadata": {},
   "outputs": [],
   "source": [
    "# Initialize Stemming and Lemmatization\n",
    "stemmer = LancasterStemmer()\n",
    "lemmatizer = WordNetLemmatizer()"
   ]
  },
  {
   "cell_type": "code",
   "execution_count": 3,
   "id": "705c0716-ab64-4def-b77d-7f35f7b9d9ff",
   "metadata": {},
   "outputs": [],
   "source": [
    "# Load spaCy model\n",
    "try:\n",
    "    nlp = spacy.load('en_core_web_sm', disable=['ner'])\n",
    "except:\n",
    "    import os\n",
    "    os.system('python -m spacy download en_core_web_sm')\n",
    "    nlp = spacy.load('en_core_web_sm', disable=['ner'])"
   ]
  },
  {
   "cell_type": "code",
   "execution_count": 4,
   "id": "f976e5e6-96a7-4742-9f3f-ffc4f4153103",
   "metadata": {},
   "outputs": [],
   "source": [
    "# Defining a basic stopword list\n",
    "stopwords_list = set([\n",
    "    'i', 'me', 'my', 'myself', 'we', 'our', 'ours', 'ourselves', 'you', 'your', 'yours', 'yourself', 'yourselves',\n",
    "    'he', 'him', 'his', 'himself', 'she', 'her', 'hers', 'herself', 'it', 'its', 'itself', 'they', 'them', 'their',\n",
    "    'theirs', 'themselves', 'what', 'which', 'who', 'whom', 'this', 'that', 'these', 'those', 'am', 'is', 'are', 'was',\n",
    "    'were', 'be', 'been', 'being', 'have', 'has', 'had', 'having', 'do', 'does', 'did', 'doing', 'a', 'an', 'the', 'and',\n",
    "    'but', 'if', 'or', 'because', 'as', 'until', 'while', 'of', 'at', 'by', 'for', 'with', 'about', 'against', 'between',\n",
    "    'into', 'through', 'during', 'before', 'after', 'above', 'below', 'to', 'from', 'up', 'down', 'in', 'out', 'on', 'off',\n",
    "    'over', 'under', 'again', 'further', 'then', 'once', 'here', 'there', 'when', 'where', 'why', 'how', 'all', 'any',\n",
    "    'both', 'each', 'few', 'more', 'most', 'other', 'some', 'such', 'no', 'nor', 'not', 'only', 'own', 'same', 'so', 'than',\n",
    "    'too', 'very', 's', 't', 'can', 'will', 'just', 'don', 'should', 'now'\n",
    "])"
   ]
  },
  {
   "cell_type": "code",
   "execution_count": 5,
   "id": "5e424934-6bbe-472e-8d10-929e68a198b5",
   "metadata": {},
   "outputs": [],
   "source": [
    "# Loading dataset\n",
    "try:\n",
    "    train_data = pd.read_csv('C:/Users/Sanjana Shah/AV GenAI Certification/NLP_Pytorch/Assignment/training.1600000.processed.noemoticon.csv', delimiter=',', encoding='ISO-8859-1')\n",
    "except Exception as e:\n",
    "    print(f\"Error loading dataset: {e}\")"
   ]
  },
  {
   "cell_type": "code",
   "execution_count": 6,
   "id": "93353ccf-265c-4c76-966d-961705cf7fc1",
   "metadata": {},
   "outputs": [],
   "source": [
    "# Adding meaningful column names\n",
    "train_data.columns = ['Sentiment','Tweet_ID','Date','Query','User','Text']"
   ]
  },
  {
   "cell_type": "code",
   "execution_count": 7,
   "id": "816dff6f-2e50-4bfd-8abf-cee32adda70d",
   "metadata": {},
   "outputs": [],
   "source": [
    "# Handling duplicates and missing data\n",
    "train_data.drop_duplicates(subset=['Text'], inplace=True)\n",
    "train_data.dropna(subset=['Text'], inplace=True)"
   ]
  },
  {
   "cell_type": "code",
   "execution_count": 8,
   "id": "2db92fff-aea4-4790-b798-0ff3d9c24aa9",
   "metadata": {},
   "outputs": [],
   "source": [
    "# Text cleaning and preprocessing functions\n",
    "\n",
    "def clean_text(text):\n",
    "    text = re.sub(r'<.*?>', '', str(text))\n",
    "    text = re.sub(r'http\\S+|www\\S+', '', text)\n",
    "    text = re.sub(r'[^a-zA-Z0-9\\s]', '', text)\n",
    "    text = re.sub(r'\\s+', ' ', text).strip()\n",
    "    return text"
   ]
  },
  {
   "cell_type": "code",
   "execution_count": 9,
   "id": "1b4171b6-6f39-45ae-ac4c-2532f23adb57",
   "metadata": {},
   "outputs": [],
   "source": [
    "def remove_stopwords(text):\n",
    "    words = text.split()\n",
    "    filtered_words = [word for word in words if word.lower() not in stopwords_list]\n",
    "    return ' '.join(filtered_words)"
   ]
  },
  {
   "cell_type": "code",
   "execution_count": 10,
   "id": "0fe7240d-14ec-40f3-bf69-3ca49b446f10",
   "metadata": {},
   "outputs": [],
   "source": [
    "def preprocess_text(text, use_stemming=False):\n",
    "    text = clean_text(text)\n",
    "    text = text.lower()\n",
    "    text = remove_stopwords(text)\n",
    "    doc = nlp(text)\n",
    "    tokens = [token.lemma_ for token in doc if not token.is_stop]\n",
    "    if use_stemming:\n",
    "        tokens = [stemmer.stem(token) for token in tokens]\n",
    "    return ' '.join(tokens)"
   ]
  },
  {
   "cell_type": "code",
   "execution_count": 11,
   "id": "5fb69ee0-a810-4e4c-be9c-3c32d65a41e5",
   "metadata": {},
   "outputs": [],
   "source": [
    "def batch_preprocess_text(texts, use_stemming=False):\n",
    "    processed_texts = []\n",
    "    for doc in nlp.pipe(texts, batch_size=1000, disable=['ner']):\n",
    "        tokens = [token.lemma_ for token in doc if not token.is_stop]\n",
    "        if use_stemming:\n",
    "            tokens = [stemmer.stem(token) for token in tokens]\n",
    "        processed_texts.append(' '.join(tokens))\n",
    "    return processed_texts"
   ]
  },
  {
   "cell_type": "code",
   "execution_count": 12,
   "id": "aa56f01b-86c5-47d4-b100-4762df620054",
   "metadata": {},
   "outputs": [
    {
     "name": "stderr",
     "output_type": "stream",
     "text": [
      "Processing Batches: 100%|████████████████████████████████████████████████████████████| 104/104 [23:51<00:00, 13.76s/it]\n"
     ]
    }
   ],
   "source": [
    "# Applying Preprocessing in Batches\n",
    "batch_size = 10000\n",
    "filtered_texts = []\n",
    "\n",
    "for i in tqdm(range(0, len(train_data), batch_size), desc=\"Processing Batches\"):\n",
    "    batch_texts = train_data['Text'].iloc[i:i+batch_size].tolist()\n",
    "    filtered_texts.extend(batch_preprocess_text(batch_texts, use_stemming=True))\n",
    "\n",
    "train_data['Filtered_Text'] = filtered_texts"
   ]
  },
  {
   "cell_type": "code",
   "execution_count": 13,
   "id": "671efc42-e4b7-4a78-9ed4-f8a6b2ba53a4",
   "metadata": {},
   "outputs": [],
   "source": [
    "# Mapping sentiments\n",
    "sentiment_mapping = {0: \"Negative\", 2: \"Neutral\", 4: \"Positive\"}\n",
    "train_data['Sentiment_Label'] = train_data['Sentiment'].map(sentiment_mapping)\n",
    "train_data.dropna(inplace=True)"
   ]
  },
  {
   "cell_type": "code",
   "execution_count": 19,
   "id": "071a00fc-5bcd-48ee-9c76-535662ca38a1",
   "metadata": {},
   "outputs": [],
   "source": [
    "X = train_data['Filtered_Text']\n",
    "y = train_data['Sentiment_Label']\n",
    "\n",
    "# Handling class imbalance using RandomUnderSampler\n",
    "rus = RandomUnderSampler(random_state=42)\n",
    "X_resampled, y_resampled = rus.fit_resample(pd.DataFrame(X), y)\n",
    "X_resampled = X_resampled.squeeze()"
   ]
  },
  {
   "cell_type": "code",
   "execution_count": 20,
   "id": "3edf7ec0-cc2c-4bb1-9c3a-9fd88b0475e5",
   "metadata": {},
   "outputs": [],
   "source": [
    "# Splitting data into train and test sets\n",
    "X_train, X_test, y_train, y_test = train_test_split(X_resampled, y_resampled, test_size=0.2, random_state=42)\n",
    "\n",
    "# Vectorizing the text using TF-IDF\n",
    "vectorizer = TfidfVectorizer(max_features=10000)\n",
    "X_train_vectorized = vectorizer.fit_transform(X_train)\n",
    "X_test_vectorized = vectorizer.transform(X_test)"
   ]
  },
  {
   "cell_type": "code",
   "execution_count": 27,
   "id": "32d830fd-0287-4879-93ff-dc344ad37074",
   "metadata": {},
   "outputs": [
    {
     "name": "stdout",
     "output_type": "stream",
     "text": [
      "\n",
      "Training Logistic Regression with Cross-Validation...\n",
      "Logistic Regression Cross-Validation F1 Score: 0.7614895566836913\n",
      "\n",
      "Training Naive Bayes with Cross-Validation...\n",
      "Naive Bayes Cross-Validation F1 Score: 0.7486469225040078\n"
     ]
    }
   ],
   "source": [
    "# Models (With Cross-Validation Added)\n",
    "models = {\n",
    "    'Logistic Regression': LogisticRegression(max_iter=1000, n_jobs=-1),\n",
    "    'Naive Bayes': MultinomialNB(),\n",
    "    }\n",
    "\n",
    "results = {}\n",
    "\n",
    "for model_name, model in models.items():\n",
    "    print(f\"\\nTraining {model_name} with Cross-Validation...\")\n",
    "    # Cross-Validation\n",
    "    cv_scores = cross_val_score(model, X_train_vectorized, y_train, cv=3, scoring='f1_weighted')\n",
    "    print(f\"{model_name} Cross-Validation F1 Score: {np.mean(cv_scores)}\")\n",
    "\n",
    "    # Training the model\n",
    "    model.fit(X_train_vectorized, y_train)\n",
    "\n",
    "    # Predictions\n",
    "    y_pred = model.predict(X_test_vectorized)\n",
    "\n",
    "    # Performance metrics\n",
    "    results[model_name] = {\n",
    "        'Accuracy': accuracy_score(y_test, y_pred),\n",
    "        'Precision': precision_score(y_test, y_pred, average='weighted'),\n",
    "        'Recall': recall_score(y_test, y_pred, average='weighted'),\n",
    "        'F1-Score': f1_score(y_test, y_pred, average='weighted')\n",
    "    }"
   ]
  },
  {
   "cell_type": "code",
   "execution_count": 28,
   "id": "b97c5ec5-f93b-4b86-a2b8-53decad2ec6e",
   "metadata": {},
   "outputs": [
    {
     "data": {
      "image/png": "[encoded data removed]",
      "text/plain": [
       "<Figure size 1600x600 with 4 Axes>"
      ]
     },
     "metadata": {},
     "output_type": "display_data"
    }
   ],
   "source": [
    "# Plotting results\n",
    "metrics = ['Accuracy', 'Precision', 'Recall', 'F1-Score']\n",
    "plt.figure(figsize=(16, 6))\n",
    "for i, metric in enumerate(metrics):\n",
    "    plt.subplot(1, 4, i+1)\n",
    "    sns.barplot(x=list(results.keys()), y=[results[model][metric] for model in results])\n",
    "    plt.title(f'{metric} Comparison')\n",
    "    plt.ylabel('Score')\n",
    "plt.tight_layout()\n",
    "plt.show()"
   ]
  },
  {
   "cell_type": "code",
   "execution_count": 29,
   "id": "77786965-ce46-46e1-a48c-789802993497",
   "metadata": {},
   "outputs": [
    {
     "name": "stdout",
     "output_type": "stream",
     "text": [
      "\n",
      "Model Performance Comparison with Cross-Validation:\n",
      "                     Accuracy  Precision    Recall  F1-Score\n",
      "Logistic Regression  0.766510   0.767037  0.766510  0.766399\n",
      "Naive Bayes          0.752523   0.752536  0.752523  0.752521\n"
     ]
    }
   ],
   "source": [
    "# Displaying results\n",
    "results_df = pd.DataFrame(results).T\n",
    "print(\"\\nModel Performance Comparison with Cross-Validation:\")\n",
    "print(results_df)"
   ]
  },
  {
   "cell_type": "code",
   "execution_count": null,
   "id": "3a478951-81bd-445a-a32d-e1e322f811b9",
   "metadata": {},
   "outputs": [],
   "source": []
  }
 ],
 "metadata": {
  "kernelspec": {
   "display_name": "Python 3 (ipykernel)",
   "language": "python",
   "name": "python3"
  },
  "language_info": {
   "codemirror_mode": {
    "name": "ipython",
    "version": 3
   },
   "file_extension": ".py",
   "mimetype": "text/x-python",
   "name": "python",
   "nbconvert_exporter": "python",
   "pygments_lexer": "ipython3",
   "version": "3.11.7"
  }
 },
 "nbformat": 4,
 "nbformat_minor": 5
}
